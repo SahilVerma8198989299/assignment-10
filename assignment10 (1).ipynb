{
 "cells": [
  {
   "cell_type": "markdown",
   "id": "4794cb5e-b6fa-4e6f-81cb-2839462544e3",
   "metadata": {},
   "source": [
    "Q.1 what is multithreading in python? why is it used? Name the module used to handle threads in python"
   ]
  },
  {
   "cell_type": "markdown",
   "id": "9b6e0e31-6a32-4b55-8e06-8b1e8bc554e8",
   "metadata": {},
   "source": [
    "Multithreading in Python refers to the ability to run multiple threads concurrently within a single program. A thread is a sequence of instructions that can be executed independently by the CPU. Multithreading allows different parts of a program to execute concurrently, potentially improving performance and responsiveness.\n",
    "\n",
    "Multithreading is used in Python to perform concurrent and parallel processing. It is particularly useful when dealing with tasks that involve blocking operations, such as I/O operations or waiting for external resources. By running tasks concurrently, you can make better use of available resources and potentially reduce overall execution time.\n",
    "\n",
    "The primary module used to handle threads in Python is the threading module. It provides a high-level interface for creating and managing threads in Python programs. The threading module allows you to create threads, start them, and synchronize their execution using locks, events, conditions, and other synchronization primitives. It also provides mechanisms for communication and data sharing between threads.\n",
    "\n",
    "Here's a simple example that demonstrates the usage of the threading module:"
   ]
  },
  {
   "cell_type": "code",
   "execution_count": 1,
   "id": "9f460841-ff7d-4938-b05d-11515e25c9e3",
   "metadata": {},
   "outputs": [
    {
     "name": "stdout",
     "output_type": "stream",
     "text": [
      "1\n",
      "2\n",
      "3\n",
      "4\n",
      "5\n",
      "A\n",
      "B\n",
      "C\n",
      "D\n",
      "E\n"
     ]
    }
   ],
   "source": [
    "import threading\n",
    "\n",
    "def print_numbers():\n",
    "    for i in range(1, 6):\n",
    "        print(i)\n",
    "\n",
    "def print_letters():\n",
    "    for letter in 'ABCDE':\n",
    "        print(letter)\n",
    "\n",
    "# Create thread objects\n",
    "thread1 = threading.Thread(target=print_numbers)\n",
    "thread2 = threading.Thread(target=print_letters)\n",
    "\n",
    "# Start the threads\n",
    "thread1.start()\n",
    "thread2.start()\n",
    "\n",
    "# Wait for the threads to finish\n",
    "thread1.join()\n",
    "thread2.join()\n"
   ]
  },
  {
   "cell_type": "markdown",
   "id": "731c02eb-5b6c-4dca-8378-b40b7d508173",
   "metadata": {},
   "source": [
    "Q.2 why threading module used? write the use of the following functions\n",
    "\n",
    "1 activeCount()\n",
    "\n",
    "2 currentThread()\n",
    "\n",
    "3 enumerate()"
   ]
  },
  {
   "cell_type": "markdown",
   "id": "21c98580-e71d-4c53-92eb-f727649d5614",
   "metadata": {},
   "source": [
    "\n",
    "The threading module in Python is used to handle threads and facilitate concurrent programming. It provides a high-level interface for creating, managing, and synchronizing threads in Python programs. Here's a brief explanation of the use of the functions you mentioned:\n",
    "\n",
    "activeCount(): This function returns the number of Thread objects currently alive (i.e., still running or not yet terminated) in the program. It provides a count of active threads at any given moment, allowing you to monitor the number of active threads in your application. It can be useful for debugging or for ensuring that all threads have completed before proceeding further in your program.\n",
    "\n",
    "Example usage:"
   ]
  },
  {
   "cell_type": "code",
   "execution_count": 3,
   "id": "66e42b5a-acd3-4734-80bb-e96f699c1c5b",
   "metadata": {},
   "outputs": [
    {
     "name": "stdout",
     "output_type": "stream",
     "text": [
      "Thread started\n",
      "Active threads: 8\n"
     ]
    },
    {
     "name": "stderr",
     "output_type": "stream",
     "text": [
      "/tmp/ipykernel_566/1884034283.py:9: DeprecationWarning: activeCount() is deprecated, use active_count() instead\n",
      "  print(\"Active threads:\", threading.activeCount())\n"
     ]
    }
   ],
   "source": [
    "import threading\n",
    "\n",
    "def my_function():\n",
    "    print(\"Thread started\")\n",
    "\n",
    "thread1 = threading.Thread(target=my_function)\n",
    "thread1.start()\n",
    "\n",
    "print(\"Active threads:\", threading.activeCount())\n"
   ]
  },
  {
   "cell_type": "markdown",
   "id": "6f2220c5-577b-48e2-b7f8-68ed6e85521f",
   "metadata": {},
   "source": [
    "currentThread(): This function returns the Thread object corresponding to the currently executing thread. It allows you to obtain a reference to the currently executing thread, which can be useful for identifying the thread, accessing its properties, or performing thread-specific operations.\n",
    "\n",
    "Example usage:"
   ]
  },
  {
   "cell_type": "code",
   "execution_count": 4,
   "id": "9dfc09a0-2782-4001-bf67-a1fc31b5160e",
   "metadata": {},
   "outputs": [
    {
     "name": "stdout",
     "output_type": "stream",
     "text": [
      "Current thread: Thread-9 (my_function)\n"
     ]
    },
    {
     "name": "stderr",
     "output_type": "stream",
     "text": [
      "/tmp/ipykernel_566/3323192193.py:4: DeprecationWarning: currentThread() is deprecated, use current_thread() instead\n",
      "  print(\"Current thread:\", threading.currentThread().getName())\n",
      "/tmp/ipykernel_566/3323192193.py:4: DeprecationWarning: getName() is deprecated, get the name attribute instead\n",
      "  print(\"Current thread:\", threading.currentThread().getName())\n"
     ]
    }
   ],
   "source": [
    "import threading\n",
    "\n",
    "def my_function():\n",
    "    print(\"Current thread:\", threading.currentThread().getName())\n",
    "\n",
    "thread1 = threading.Thread(target=my_function)\n",
    "thread1.start()\n"
   ]
  },
  {
   "cell_type": "markdown",
   "id": "b149c0d5-85c1-4e4a-9418-44ffb3a155f3",
   "metadata": {},
   "source": [
    "enumerate(): This function returns a list of all Thread objects currently alive in the program. It provides a way to obtain references to all active threads, allowing you to iterate over them or perform operations on each thread.\n",
    "\n",
    "Example usage:"
   ]
  },
  {
   "cell_type": "code",
   "execution_count": 5,
   "id": "45fcbf43-7046-412f-947a-c3fcd8064bca",
   "metadata": {},
   "outputs": [
    {
     "name": "stdout",
     "output_type": "stream",
     "text": [
      "Thread started\n",
      "Thread started\n",
      "Total threads: 8\n"
     ]
    }
   ],
   "source": [
    "import threading\n",
    "\n",
    "def my_function():\n",
    "    print(\"Thread started\")\n",
    "\n",
    "thread1 = threading.Thread(target=my_function)\n",
    "thread2 = threading.Thread(target=my_function)\n",
    "thread1.start()\n",
    "thread2.start()\n",
    "\n",
    "threads = threading.enumerate()\n",
    "print(\"Total threads:\", len(threads))\n"
   ]
  },
  {
   "cell_type": "markdown",
   "id": "e84a9bb8-12e1-4bb1-8c14-c27efb12cc5d",
   "metadata": {},
   "source": [
    "Q.3 Explain the following functions:\n",
    "    \n",
    "run()\n",
    "\n",
    "start()\n",
    "\n",
    "join()\n",
    "\n",
    "isAlive()"
   ]
  },
  {
   "cell_type": "markdown",
   "id": "c1fed208-aca8-4ca0-b3a4-f3ac90416a80",
   "metadata": {},
   "source": [
    "run(): The run() function is not directly called by the user but is implicitly invoked when a thread's start() method is called. It represents the entry point for the thread's activity. You can override this function in a custom thread class to define the tasks that the thread will perform. By default, the run() function does nothing. It is essential to override this function and provide the desired functionality for the thread.\n",
    "\n",
    "Example usage:"
   ]
  },
  {
   "cell_type": "code",
   "execution_count": 8,
   "id": "08039a12-fd3d-4eb9-a8d8-692603153f0c",
   "metadata": {},
   "outputs": [
    {
     "name": "stdout",
     "output_type": "stream",
     "text": [
      "Thread is running\n"
     ]
    }
   ],
   "source": [
    "import threading\n",
    "\n",
    "class MyThread(threading.Thread):\n",
    "    def run(self):\n",
    "        print(\"Thread is running\")\n",
    "\n",
    "thread = MyThread()\n",
    "thread.start()\n"
   ]
  },
  {
   "cell_type": "markdown",
   "id": "fb81c6de-22e3-4ecd-9230-309ca31512ee",
   "metadata": {},
   "source": [
    "start(): The start() function is used to start a thread's execution. It creates a new thread and invokes the thread's run() method. When start() is called, the thread is placed in the active state and the system scheduler determines when the thread gets CPU time to execute. It allows multiple threads to run concurrently.\n",
    "\n",
    "Example usage:"
   ]
  },
  {
   "cell_type": "code",
   "execution_count": 9,
   "id": "2e264f8c-b1bd-42da-b669-7e53ca434c76",
   "metadata": {},
   "outputs": [
    {
     "name": "stdout",
     "output_type": "stream",
     "text": [
      "Thread is running\n"
     ]
    }
   ],
   "source": [
    "import threading\n",
    "\n",
    "def my_function():\n",
    "    print(\"Thread is running\")\n",
    "\n",
    "thread = threading.Thread(target=my_function)\n",
    "thread.start()\n"
   ]
  },
  {
   "cell_type": "markdown",
   "id": "92244d36-7fed-4eb1-b6d0-e8666c2e9f51",
   "metadata": {},
   "source": [
    "join(): The join() function is used to wait for a thread to complete its execution. It blocks the execution of the calling thread until the thread on which join() is called finishes executing. This allows you to synchronize the execution of multiple threads and ensure that certain operations happen only after a thread has completed its task.\n",
    "\n",
    "Example usage:\n",
    "\n"
   ]
  },
  {
   "cell_type": "code",
   "execution_count": 11,
   "id": "af8caabc-19d3-4890-93cf-432db86339c8",
   "metadata": {},
   "outputs": [
    {
     "name": "stdout",
     "output_type": "stream",
     "text": [
      "Thread completed\n",
      "All threads completed\n"
     ]
    }
   ],
   "source": [
    "import threading\n",
    "import time\n",
    "\n",
    "def my_function():\n",
    "    time.sleep(2)\n",
    "    print(\"Thread completed\")\n",
    "\n",
    "thread = threading.Thread(target=my_function)\n",
    "thread.start()\n",
    "thread.join()\n",
    "print(\"All threads completed\")\n",
    "\n"
   ]
  },
  {
   "cell_type": "markdown",
   "id": "46dac992-7337-4de6-9d93-b22be35e4aac",
   "metadata": {},
   "source": [
    "isAlive(): The isAlive() function is used to check if a thread is currently running or active. It returns True if the thread is alive (running or not yet terminated) and False otherwise. This function can be used to check the status of a thread and perform certain actions based on its state."
   ]
  },
  {
   "cell_type": "code",
   "execution_count": 18,
   "id": "93911399-8a61-429e-bb2d-4348e81eb0d7",
   "metadata": {},
   "outputs": [
    {
     "ename": "AttributeError",
     "evalue": "'Thread' object has no attribute 'isAlive'",
     "output_type": "error",
     "traceback": [
      "\u001b[0;31m---------------------------------------------------------------------------\u001b[0m",
      "\u001b[0;31mAttributeError\u001b[0m                            Traceback (most recent call last)",
      "Cell \u001b[0;32mIn[18], line 10\u001b[0m\n\u001b[1;32m      7\u001b[0m thread \u001b[38;5;241m=\u001b[39m threading\u001b[38;5;241m.\u001b[39mThread(target\u001b[38;5;241m=\u001b[39mmy_function)\n\u001b[1;32m      8\u001b[0m thread\u001b[38;5;241m.\u001b[39mstart()\n\u001b[0;32m---> 10\u001b[0m \u001b[38;5;28mprint\u001b[39m(\u001b[38;5;124m\"\u001b[39m\u001b[38;5;124mThread is alive:\u001b[39m\u001b[38;5;124m\"\u001b[39m, \u001b[43mthread\u001b[49m\u001b[38;5;241;43m.\u001b[39;49m\u001b[43misAlive\u001b[49m())\n\u001b[1;32m     11\u001b[0m time\u001b[38;5;241m.\u001b[39msleep(\u001b[38;5;241m3\u001b[39m)\n\u001b[1;32m     12\u001b[0m \u001b[38;5;28mprint\u001b[39m(\u001b[38;5;124m\"\u001b[39m\u001b[38;5;124mThread is alive:\u001b[39m\u001b[38;5;124m\"\u001b[39m, thread\u001b[38;5;241m.\u001b[39misAlive())\n",
      "\u001b[0;31mAttributeError\u001b[0m: 'Thread' object has no attribute 'isAlive'"
     ]
    }
   ],
   "source": [
    "import threading\n",
    "import time\n",
    "\n",
    "def my_function():\n",
    "    time.sleep(2)\n",
    "\n",
    "thread = threading.Thread(target=my_function)\n",
    "thread.start()\n",
    "\n",
    "print(\"Thread is alive:\", thread.isAlive())\n",
    "time.sleep(3)\n",
    "print(\"Thread is alive:\", thread.isAlive())\n"
   ]
  },
  {
   "cell_type": "markdown",
   "id": "8c1023b9-1501-4a02-8c39-9f9182a4704e",
   "metadata": {},
   "source": [
    "Q.4 write a python program to create two threads. Thread one must print the list of squares and thread\n",
    "two must print the list of cubes."
   ]
  },
  {
   "cell_type": "code",
   "execution_count": 19,
   "id": "569c954a-81a3-463d-8e48-59caeae6125e",
   "metadata": {},
   "outputs": [
    {
     "name": "stdout",
     "output_type": "stream",
     "text": [
      "Square of 1 is 1\n",
      "Square of 2 is 4\n",
      "Square of 3 is 9\n",
      "Square of 4 is 16\n",
      "Square of 5 is 25\n",
      "Square of 6 is 36\n",
      "Square of 7 is 49\n",
      "Square of 8 is 64\n",
      "Square of 9 is 81\n",
      "Square of 10 is 100\n",
      "Cube of 1 is 1\n",
      "Cube of 2 is 8\n",
      "Cube of 3 is 27\n",
      "Cube of 4 is 64\n",
      "Cube of 5 is 125\n",
      "Cube of 6 is 216\n",
      "Cube of 7 is 343\n",
      "Cube of 8 is 512\n",
      "Cube of 9 is 729\n",
      "Cube of 10 is 1000\n"
     ]
    }
   ],
   "source": [
    "import threading\n",
    "\n",
    "def print_squares():\n",
    "    for i in range(1, 11):\n",
    "        print(f\"Square of {i} is {i**2}\")\n",
    "\n",
    "def print_cubes():\n",
    "    for i in range(1, 11):\n",
    "        print(f\"Cube of {i} is {i**3}\")\n",
    "\n",
    "# Create the first thread for printing squares\n",
    "thread1 = threading.Thread(target=print_squares)\n",
    "\n",
    "# Create the second thread for printing cubes\n",
    "thread2 = threading.Thread(target=print_cubes)\n",
    "\n",
    "# Start both threads\n",
    "thread1.start()\n",
    "thread2.start()\n",
    "\n",
    "# Wait for both threads to finish\n",
    "thread1.join()\n",
    "thread2.join()\n"
   ]
  },
  {
   "cell_type": "markdown",
   "id": "147892d4-f263-472e-be07-2993742db81b",
   "metadata": {},
   "source": [
    "Q.5 State advantages and disadvantages of multithreading."
   ]
  },
  {
   "cell_type": "markdown",
   "id": "5cd03c87-4074-464a-a459-7f0b1d1581e7",
   "metadata": {},
   "source": [
    "Advantages of Multithreading:\n",
    "\n",
    "Increased Responsiveness: Multithreading allows a program to remain responsive even when performing time-consuming tasks. By executing multiple threads concurrently, a program can handle multiple tasks simultaneously and provide a better user experience.\n",
    "\n",
    "Enhanced Performance: Multithreading can improve overall performance by utilizing the available system resources more efficiently. It enables better utilization of CPU cores and can speed up the execution of parallelizable tasks.\n",
    "\n",
    "Resource Sharing: Threads within a process share the same memory space, allowing them to share data and communicate with each other more easily. This simplifies the sharing of resources and information between different parts of a program.\n",
    "\n",
    "Simplified Design: Multithreading can simplify the design and implementation of certain types of programs. For example, applications that require separate activities to run concurrently, such as graphical user interfaces (GUIs) and server programs, can be more easily developed using multiple threads."
   ]
  },
  {
   "cell_type": "markdown",
   "id": "21391bf2-fb58-4a4f-b201-9ea81fdf3c0a",
   "metadata": {},
   "source": [
    "Disadvantages of Multithreading:\n",
    "\n",
    "Complexity and Difficulty: Multithreaded programs can be more complex to design, implement, and debug compared to single-threaded programs. Managing shared resources, avoiding race conditions, and ensuring thread safety require careful attention and can introduce subtle bugs that are difficult to reproduce and diagnose.\n",
    "\n",
    "Synchronization Overhead: When multiple threads access and modify shared data concurrently, synchronization mechanisms, such as locks or semaphores, are required to prevent data corruption and ensure data consistency. These synchronization mechanisms introduce overhead, including additional processing time and potential contention among threads.\n",
    "\n",
    "Increased Risk of Deadlocks and Race Conditions: Multithreading introduces the risk of deadlocks, where two or more threads wait indefinitely for each other to release resources. Additionally, race conditions can occur when multiple threads access shared data simultaneously, leading to unpredictable results and incorrect behavior if not properly handled."
   ]
  },
  {
   "cell_type": "markdown",
   "id": "14e14705-ddd3-43ce-a8ce-4f606d4c74ed",
   "metadata": {},
   "source": [
    "Debugging and Testing Challenges: Debugging multithreaded programs can be challenging due to the non-deterministic nature of thread execution. Issues such as thread interleaving, timing-dependent bugs, and hard-to-reproduce concurrency problems can make debugging and testing more difficult."
   ]
  },
  {
   "cell_type": "markdown",
   "id": "650647ab-a145-4197-89ac-ae75604c375d",
   "metadata": {},
   "source": [
    "Q.6 Explain deadlocks and race conditions."
   ]
  },
  {
   "cell_type": "markdown",
   "id": "39e665b6-56f9-4e01-ad51-f3ee285ebdb7",
   "metadata": {},
   "source": [
    "Deadlocks:\n",
    "A deadlock occurs in a multithreaded or multitasking environment when two or more threads or processes are waiting for each other to release resources, resulting in a situation where none of the threads can proceed. This leads to a stalemate, and the program cannot make any progress. Deadlocks typically involve shared resources and arise due to a circular dependency among threads. Deadlocks can be categorized by four necessary conditions, known as the Coffman conditions:\n",
    "Mutual Exclusion: At least one resource must be held exclusively (non-sharable) by a thread or process at any given time.\n",
    "Hold and Wait: A thread or process holds a resource while simultaneously waiting for other resources.\n",
    "No Preemption: Resources cannot be forcibly taken away from a thread or process.\n",
    "Circular Wait: A circular chain of two or more threads or processes exists, where each is waiting for a resource held by the next thread or process in the chain."
   ]
  },
  {
   "cell_type": "markdown",
   "id": "d4acc943-bac9-4bfc-937e-f905822ceff6",
   "metadata": {},
   "source": [
    "Race Conditions:\n",
    "A race condition occurs when the behavior of a program depends on the relative execution order of concurrent threads or processes. It arises when multiple threads access shared data or resources simultaneously, and the final outcome of the program depends on the interleaving of their execution. The result of a race condition is unpredictable and can lead to data corruption, incorrect computations, or unexpected behavior."
   ]
  },
  {
   "cell_type": "markdown",
   "id": "00ffc8a6-2f53-4dbf-bb5a-a05d1b2fa029",
   "metadata": {},
   "source": [
    "Race conditions typically occur when multiple threads perform read and write operations on shared data without proper synchronization. For example, if one thread is updating a variable while another thread is simultaneously reading or modifying the same variable, the outcome can vary depending on the timing of the operations.\n",
    "\n",
    "To prevent race conditions, synchronization mechanisms, such as locks, semaphores, or atomic operations, should be used to enforce mutual exclusion and ensure that only one thread accesses the shared data at a time. Proper synchronization ensures data consistency and prevents conflicting operations from occurring concurrently.\n",
    "\n",
    "Detecting and resolving race conditions can be challenging, as they are often timing-dependent and may not manifest consistently. Techniques like proper synchronization, thread-safe programming, and careful analysis of shared data accesses can help mitigate race conditions and ensure correct program behavior."
   ]
  },
  {
   "cell_type": "code",
   "execution_count": null,
   "id": "c8002a03-021f-4f86-b16d-6c2f25883686",
   "metadata": {},
   "outputs": [],
   "source": []
  },
  {
   "cell_type": "code",
   "execution_count": null,
   "id": "2acfb820-7cb4-47a1-8d04-bc064df661f4",
   "metadata": {},
   "outputs": [],
   "source": []
  }
 ],
 "metadata": {
  "kernelspec": {
   "display_name": "Python 3 (ipykernel)",
   "language": "python",
   "name": "python3"
  },
  "language_info": {
   "codemirror_mode": {
    "name": "ipython",
    "version": 3
   },
   "file_extension": ".py",
   "mimetype": "text/x-python",
   "name": "python",
   "nbconvert_exporter": "python",
   "pygments_lexer": "ipython3",
   "version": "3.10.8"
  }
 },
 "nbformat": 4,
 "nbformat_minor": 5
}
